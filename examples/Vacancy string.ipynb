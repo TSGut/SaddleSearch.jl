{
 "cells": [
  {
   "cell_type": "code",
   "execution_count": 1,
   "metadata": {
    "collapsed": false
   },
   "outputs": [],
   "source": [
    "using SaddleSearch \n",
    "using SaddleSearch.TestSets\n",
    "using Plots \n",
    "using Dierckx"
   ]
  },
  {
   "cell_type": "code",
   "execution_count": 56,
   "metadata": {
    "collapsed": false
   },
   "outputs": [
    {
     "name": "stderr",
     "output_type": "stream",
     "text": [
      "WARNING: Method definition (::Type{Main.StringMethod2})(Float64, Float64, Int64, Any, Any, Int64, Bool) in module Main at In[3]:19 overwritten at In[56]:19.\n",
      "WARNING: Method definition (::Type{Main.StringMethod2})(Any, Any, Any, Any, Any, Any, Any) in module Main at In[3]:19 overwritten at In[56]:19.\n",
      "\u001b[1m\u001b[31mWARNING: replacing docs for 'StringMethod2 :: Union{}' in module 'Main'.\u001b[0m\n",
      "WARNING: Method definition run2!(Main.StringMethod2, Any, Any, Array{#T<:Any, 1}, Array{#T<:Any, 1}) in module Main at In[3]:32 overwritten at In[56]:32.\n",
      "WARNING: Method definition spline_i(Any, Any, Any) in module Main at In[3]:89 overwritten at In[56]:89.\n",
      "WARNING: Method definition spline(Any, Any) in module Main at In[3]:91 overwritten at In[56]:91.\n"
     ]
    },
    {
     "data": {
      "text/plain": [
       "spline (generic function with 1 method)"
      ]
     },
     "execution_count": 56,
     "metadata": {},
     "output_type": "execute_result"
    }
   ],
   "source": [
    "using Dierckx\n",
    "export StringMethod2\n",
    "\n",
    "\"\"\"\n",
    "`StringMethod`: the most basic string method variant, minimising the energy\n",
    "normally to the string by successive steepest descent minimisations at fixed\n",
    "step-size with an intermediate redistribution of the nodes.\n",
    "\n",
    "### Parameters:\n",
    "* `alpha` : step length\n",
    "* `tol_res` : residual tolerance\n",
    "* `maxnit` : maximum number of iterations\n",
    "* `precon` : preconditioner\n",
    "* `precon_prep!` : update function for preconditioner\n",
    "* `verbose` : how much information to print (0: none, 1:end of iteration, 2:each iteration)\n",
    "* `precon_cond` : true/false whether to precondition the minimisation step\n",
    "\"\"\"\n",
    "type StringMethod2\n",
    "   alpha::Float64\n",
    "   # ------ shared parameters ------\n",
    "   tol_res::Float64\n",
    "    tol_resF::Float64\n",
    "   maxnit::Int\n",
    "   precon\n",
    "   precon_prep!\n",
    "   verbose::Int\n",
    "   precon_cond::Bool\n",
    "end\n",
    "\n",
    "\n",
    "function run2!{T}(method::StringMethod2, E, dE, x0::Vector{T}, t0::Vector{T})\n",
    "      # read all the parameters\n",
    "    alpha = method.alpha\n",
    "    tol_res = method.tol_res\n",
    "#     tol_resF = method.tol_resF\n",
    "    maxnit = method.maxnit\n",
    "    precon = method.precon\n",
    "    precon_prep! = (P, x) -> P\n",
    "    verbose = 2\n",
    "    precon_cond = false\n",
    "    \n",
    "    P=precon\n",
    "      # initialise variables\n",
    "      x, t = copy(x0), copy(t0)\n",
    "      nit = 0\n",
    "      numdE, numE = 0, 0\n",
    "      log = SaddleSearch.IterationLog()\n",
    "      # and just start looping\n",
    "      if verbose >= 2\n",
    "        @printf(\" nit |  sup|∇E|_∞   ||∇Eᵏ|_∞-|∇Eᵏ⁺¹|_∞|\\n\")\n",
    "        @printf(\"-----|---------------------------------\\n\")\n",
    "      end\n",
    "      for nit = 0:maxnit\n",
    "         # normalise t\n",
    "         P = precon_prep!(P, x)\n",
    "         t ./= [sqrt(dot(t[i], P, t[i])) for i=1:length(x)]\n",
    "         # evaluate gradients, and more stuff\n",
    "         dE0 = [dE(x[i]) for i=1:length(x)]\n",
    "         t[1] =zeros(length(t[1])); t[length(x)]=zeros(length(t[1]));\n",
    "         dE0perp = [P \\ dE0[i] - dot(dE0[i],t[i])*t[i] for i = 1:length(x)]\n",
    "         numdE += 1\n",
    "         # residual, store history\n",
    "         res = maximum([norm(dE0perp[i],Inf) for i = 1:length(x)])\n",
    "#         resF = abs(res - log.res_trans[end])\n",
    "        push!(log, numE, numdE, res, resF)\n",
    "         if verbose >= 2\n",
    "            @printf(\"%4d |   %1.2e\\n\", nit, res, resF)\n",
    "         end\n",
    "        if res <= tol_res # || resF <= tol_res*0\n",
    "            if verbose >= 1\n",
    "               println(\"StringMethod terminates succesfully after $(nit) iterations\")\n",
    "            end\n",
    "            return x, log\n",
    "         end\n",
    "         x -= alpha * dE0perp\n",
    "         # reparametrise\n",
    "         ds = [sqrt(dot(x[i+1]-x[i], P, x[i+1]-x[i])) for i=1:length(x)-1]\n",
    "         s = [0; [sum(ds[1:i]) for i in 1:length(ds)]]\n",
    "         s /= s[end]; s[end] = 1.\n",
    "         S = spline(s, x)\n",
    "         x = [[S[i](s) for i in 1:length(S)] for s in linspace(0., 1.,\n",
    "                                                                  length(x)) ]\n",
    "         t = [[derivative(S[i], s) for i in 1:length(S)] for s in\n",
    "                                                  linspace(0., 1., length(x)) ]\n",
    "      end\n",
    "      if verbose >= 1\n",
    "         println(\"StringMethod terminated unsuccesfully after $(maxnit) iterations.\")\n",
    "      end\n",
    "      return x, log\n",
    "   end\n",
    "\n",
    "spline_i(x, y, i) =  Spline1D( x, [y[j][i] for j=1:length(y)],\n",
    "                                    w = ones(length(x)), k = 3, bc = \"error\" )\n",
    "spline(x,y) = [spline_i(x,y,i) for i=1:length(y[1])]\n"
   ]
  },
  {
   "cell_type": "code",
   "execution_count": 57,
   "metadata": {
    "collapsed": false
   },
   "outputs": [
    {
     "name": "stderr",
     "output_type": "stream",
     "text": [
      "WARNING: Method definition push!(SaddleSearch.IterationLog, Any, Any, Any) in module Main at In[4]:2 overwritten at In[57]:2.\n"
     ]
    }
   ],
   "source": [
    "function Base.push!(log::SaddleSearch.IterationLog, numE, numdE, res_trans)\n",
    "   push!(log.numE, numE)\n",
    "   push!(log.numdE, numdE)\n",
    "   push!(log.res_trans, res_trans)\n",
    "end"
   ]
  },
  {
   "cell_type": "code",
   "execution_count": 58,
   "metadata": {
    "collapsed": false
   },
   "outputs": [
    {
     "data": {
      "text/plain": [
       "180×180 sparse matrix with 2736 Float64 nonzero entries:\n",
       "\t[1  ,   1]  =  367.022\n",
       "\t[31 ,   1]  =  -0.28125\n",
       "\t[33 ,   1]  =  -0.888889\n",
       "\t[35 ,   1]  =  -0.28125\n",
       "\t[47 ,   1]  =  -0.888889\n",
       "\t[49 ,   1]  =  -72.0\n",
       "\t[51 ,   1]  =  -72.0\n",
       "\t[53 ,   1]  =  -0.888889\n",
       "\t[65 ,   1]  =  -0.28125\n",
       "\t[67 ,   1]  =  -72.0\n",
       "\t⋮\n",
       "\t[177, 179]  =  -72.0\n",
       "\t[179, 179]  =  218.623\n",
       "\t[150, 180]  =  -0.28125\n",
       "\t[152, 180]  =  -0.888889\n",
       "\t[154, 180]  =  -0.28125\n",
       "\t[164, 180]  =  -0.888889\n",
       "\t[166, 180]  =  -72.0\n",
       "\t[168, 180]  =  -72.0\n",
       "\t[176, 180]  =  -0.28125\n",
       "\t[178, 180]  =  -72.0\n",
       "\t[180, 180]  =  218.623"
      ]
     },
     "execution_count": 58,
     "metadata": {},
     "output_type": "execute_result"
    }
   ],
   "source": [
    "V = LJVacancy2D(R = 5.1)\n",
    "E, dE = objective(V)\n",
    "\n",
    "X0 = copy(V.Xref); X1 = copy(V.Xref)\n",
    "X0[:,1] *= 1.; X1[:,1] *= .0\n",
    "x0 = X0[:, V.Ifree][:]\n",
    "x1 = X1[:, V.Ifree][:]\n",
    "\n",
    "P = SaddleSearch.TestSets.precond(V, x0)\n",
    "\n",
    "# X = SaddleSearch.TestSets.dofs2pos(V, x0)\n",
    "# plot(X[1,:], X[2,:], \"b.\")\n",
    "# plot(X[1,V.Ifree], X[2,V.Ifree], \"rx\")"
   ]
  },
  {
   "cell_type": "code",
   "execution_count": 101,
   "metadata": {
    "collapsed": false
   },
   "outputs": [
    {
     "data": {
      "text/plain": [
       "StringMethod2(0.0007,0.1,100,UniformScaling{Int64}\n",
       "1*I,#161,2,false)"
      ]
     },
     "execution_count": 101,
     "metadata": {},
     "output_type": "execute_result"
    }
   ],
   "source": [
    "# initial string \n",
    "N = 25\n",
    "xstr =  [ (1-s) * x0 + s * x1  for s in linspace(0, 1, N) ]\n",
    "s = linspace(0, 1, N); \n",
    "\n",
    "S = Array{Dierckx.Spline1D,2}(size(X0,2),2)\n",
    "S[:] = [Spline1D(s*i, [xstr[j][i] for j=1:length(xstr)], w = ones(length(xstr)), k = 3, bc = \"error\") for i=1:length(xstr[1])]\n",
    "# S = transpose(S)\n",
    "\n",
    "Tstr = [[derivative(S[i,j], s) for j in 1:2, i in 1:size(X0,2)] for s in linspace(0., 1., N) ]\n",
    "tstr = [Tstr[i]'[:] for i=1:N]\n",
    "#[[derivative(S[i], s) for i in 1:length(X0)] for s in linspace(0., 1., N) ]\n",
    "\n",
    "string = StringMethod2(0.0007, 1e-1, 100, I, (P, x) -> P, 2, false)"
   ]
  },
  {
   "cell_type": "code",
   "execution_count": 62,
   "metadata": {
    "collapsed": false
   },
   "outputs": [
    {
     "name": "stdout",
     "output_type": "stream",
     "text": [
      " nit |  sup|∇E|_∞   \n",
      "-----|-----------------\n",
      "   0 |   4.50e+01\n",
      "   1 |   1.61e+01\n",
      "   2 |   8.91e+00\n",
      "   3 |   5.78e+00\n",
      "   4 |   4.13e+00\n",
      "   5 |   3.15e+00\n",
      "   6 |   2.53e+00\n",
      "   7 |   2.15e+00\n",
      "   8 |   1.88e+00\n",
      "   9 |   1.66e+00\n",
      "  10 |   1.47e+00\n",
      "  11 |   1.31e+00\n",
      "  12 |   1.17e+00\n",
      "  13 |   1.05e+00\n",
      "  14 |   9.51e-01\n",
      "  15 |   8.62e-01\n",
      "  16 |   8.08e-01\n",
      "  17 |   7.68e-01\n",
      "  18 |   7.51e-01\n",
      "  19 |   7.38e-01\n",
      "  20 |   7.26e-01\n",
      "  21 |   7.15e-01\n",
      "  22 |   7.05e-01\n",
      "  23 |   6.95e-01\n",
      "  24 |   6.86e-01\n",
      "  25 |   6.77e-01\n",
      "  26 |   6.69e-01\n",
      "  27 |   6.60e-01\n",
      "  28 |   6.53e-01\n",
      "  29 |   6.47e-01\n",
      "  30 |   6.41e-01\n",
      "  31 |   6.34e-01\n",
      "  32 |   6.28e-01\n",
      "  33 |   6.21e-01\n",
      "  34 |   6.15e-01\n",
      "  35 |   6.08e-01\n",
      "  36 |   6.02e-01\n",
      "  37 |   5.95e-01\n",
      "  38 |   5.88e-01\n",
      "  39 |   5.82e-01\n",
      "  40 |   5.75e-01\n",
      "  41 |   5.68e-01\n",
      "  42 |   5.61e-01\n",
      "  43 |   5.54e-01\n",
      "  44 |   5.48e-01\n",
      "  45 |   5.41e-01\n",
      "  46 |   5.34e-01\n",
      "  47 |   5.27e-01\n",
      "  48 |   5.20e-01\n",
      "  49 |   5.14e-01\n",
      "  50 |   5.07e-01\n",
      "  51 |   5.00e-01\n",
      "  52 |   4.94e-01\n",
      "  53 |   4.87e-01\n",
      "  54 |   4.81e-01\n",
      "  55 |   4.74e-01\n",
      "  56 |   4.68e-01\n",
      "  57 |   4.61e-01\n",
      "  58 |   4.55e-01\n",
      "  59 |   4.49e-01\n",
      "  60 |   4.43e-01\n",
      "  61 |   4.37e-01\n",
      "  62 |   4.32e-01\n",
      "  63 |   4.27e-01\n",
      "  64 |   4.23e-01\n",
      "  65 |   4.19e-01\n",
      "  66 |   4.14e-01\n",
      "  67 |   4.10e-01\n",
      "  68 |   4.06e-01\n",
      "  69 |   4.02e-01\n",
      "  70 |   3.98e-01\n",
      "  71 |   3.94e-01\n",
      "  72 |   3.91e-01\n",
      "  73 |   3.87e-01\n",
      "  74 |   3.84e-01\n",
      "  75 |   3.81e-01\n",
      "  76 |   3.78e-01\n",
      "  77 |   3.74e-01\n",
      "  78 |   3.71e-01\n",
      "  79 |   3.68e-01\n",
      "  80 |   3.65e-01\n",
      "  81 |   3.62e-01\n",
      "  82 |   3.58e-01\n",
      "  83 |   3.55e-01\n",
      "  84 |   3.52e-01\n",
      "  85 |   3.49e-01\n",
      "  86 |   3.46e-01\n",
      "  87 |   3.43e-01\n",
      "  88 |   3.39e-01\n",
      "  89 |   3.36e-01\n",
      "  90 |   3.33e-01\n",
      "  91 |   3.30e-01\n",
      "  92 |   3.27e-01\n",
      "  93 |   3.24e-01\n",
      "  94 |   3.21e-01\n",
      "  95 |   3.18e-01\n",
      "  96 |   3.14e-01\n",
      "  97 |   3.11e-01\n",
      "  98 |   3.08e-01\n",
      "  99 |   3.05e-01\n",
      " 100 |   3.02e-01\n",
      "StringMethod terminated unsuccesfully after 100 iterations.\n"
     ]
    },
    {
     "ename": "LoadError",
     "evalue": "MethodError: Cannot `convert` an object of type Array{Float64,1} to an object of type Array{Float64,2}\nThis may have arisen from a call to the constructor Array{Float64,2}(...),\nsince type constructors fall back to convert methods.",
     "output_type": "error",
     "traceback": [
      "MethodError: Cannot `convert` an object of type Array{Float64,1} to an object of type Array{Float64,2}\nThis may have arisen from a call to the constructor Array{Float64,2}(...),\nsince type constructors fall back to convert methods.",
      "",
      " in macro expansion at ./multidimensional.jl:431 [inlined]",
      " in macro expansion at ./cartesian.jl:64 [inlined]",
      " in macro expansion at ./multidimensional.jl:429 [inlined]",
      " in _unsafe_batchsetindex!(::Array{Array{Float64,2},1}, ::Array{Array{Float64,1},1}, ::Colon) at ./multidimensional.jl:421",
      " in setindex!(::Array{Array{Float64,2},1}, ::Array{Array{Float64,1},1}, ::Colon) at ./abstractarray.jl:832"
     ]
    }
   ],
   "source": [
    "STRx, STRlog = run2!(string, E, dE, xstr, tstr)\n",
    "Tstr[:]=tstr\n",
    "# Xbb = SaddleSearch.TestSets.dofs2pos(V, xbb)\n",
    "# plot(Xbb[1,:], Xbb[2,:], \"b.\")\n",
    "# plot(Xbb[1,V.Ifree], Xbb[2,V.Ifree], \"rx\")"
   ]
  },
  {
   "cell_type": "code",
   "execution_count": 100,
   "metadata": {
    "collapsed": false
   },
   "outputs": [
    {
     "name": "stderr",
     "output_type": "stream",
     "text": [
      "WARNING: Method definition init_deps() in module Main at /Users/sMakri/.julia/v0.5/ImageMagick/deps/deps.jl:5 overwritten at /Users/sMakri/.julia/v0.5/ImageMagick/deps/deps.jl:5.\n",
      "WARNING: Method definition @checked_lib(ANY<:Any, ANY<:Any) in module Main at /Users/sMakri/.julia/v0.5/ImageMagick/deps/deps.jl:13 overwritten at /Users/sMakri/.julia/v0.5/ImageMagick/deps/deps.jl:13.\n",
      "\u001b[1m\u001b[31mWARNING: Tried to create gif using convert (ImageMagick), but got error: LoadError(\"/Users/sMakri/.julia/v0.5/ImageMagick/deps/deps.jl\",18,ErrorException(\"Unable to load \\n\\nlibwand (/Users/sMakri/.julia/v0.5/Homebrew/deps/usr/lib/libMagickWand-6.Q16.dylib)\\n\\nPlease re-run Pkg.build(package), and restart Julia.\"))\n",
      "ImageMagick can be installed by executing `Pkg.add(\"ImageMagick\")`\n",
      "Will try ffmpeg, but it's lower quality...)\u001b[0m\n"
     ]
    },
    {
     "ename": "LoadError",
     "evalue": "could not spawn `ffmpeg -v 0 -framerate 15 -loop 0 -i /var/folders/pc/486zp2n124qdyf99trf7s2rm0000gn/T/tmpwHGYPQ/%06d.png -y /Users/sMakri/string-method/temp/vacancy.gif`: no such file or directory (ENOENT)",
     "output_type": "error",
     "traceback": [
      "could not spawn `ffmpeg -v 0 -framerate 15 -loop 0 -i /var/folders/pc/486zp2n124qdyf99trf7s2rm0000gn/T/tmpwHGYPQ/%06d.png -y /Users/sMakri/string-method/temp/vacancy.gif`: no such file or directory (ENOENT)",
      "",
      " in _jl_spawn(::String, ::Array{String,1}, ::Ptr{Void}, ::Base.Process, ::RawFD, ::RawFD, ::RawFD) at ./process.jl:321",
      " in #412 at ./process.jl:478 [inlined]",
      " in setup_stdio(::Base.##412#413{Cmd,Ptr{Void},Base.Process}, ::Tuple{RawFD,RawFD,RawFD}) at ./process.jl:466",
      " in #spawn#411(::Nullable{Base.ProcessChain}, ::Function, ::Cmd, ::Tuple{RawFD,RawFD,RawFD}, ::Bool, ::Bool) at ./process.jl:477",
      " in run at ./process.jl:591 [inlined]",
      " in #buildanimation#348(::Int64, ::Int64, ::Function, ::String, ::String) at /Users/sMakri/.julia/v0.5/Plots/src/animation.jl:87",
      " in (::Plots.#kw##buildanimation)(::Array{Any,1}, ::Plots.#buildanimation, ::String, ::String) at ./<missing>:0",
      " in #gif#345(::Array{Any,1}, ::Function, ::Plots.Animation, ::String) at /Users/sMakri/.julia/v0.5/Plots/src/animation.jl:58",
      " in (::Plots.#kw##gif)(::Array{Any,1}, ::Plots.#gif, ::Plots.Animation, ::String) at ./<missing>:0"
     ]
    }
   ],
   "source": [
    "X = copy(V.Xref)\n",
    "X[:] = STRx[1]\n",
    "anim = @animate for i =1 :25\n",
    "    X[:] = STRx[i]\n",
    "    Plots.plot(X[1,:], X[2,:], marker=(10.0,:c), linestyle=:dot, linewidth=0)\n",
    "    Plots.plot!(X[1,V.Ifree], X[2,V.Ifree], marker=(15.0,:+), linestyle=:dot, linewidth=0, size=(700, 500))\n",
    "end\n",
    "\n",
    "Plots.gif(anim, fps=15)\n",
    "\n",
    "#     Plots.plot!(X0[1,V.Ifree], X0[2,V.Ifree], marker=(15.0,:x), linestyle=:dot, linewidth=0, size=(700, 500))"
   ]
  },
  {
   "cell_type": "code",
   "execution_count": null,
   "metadata": {
    "collapsed": false
   },
   "outputs": [],
   "source": [
    "plot(X[1,:], X[2,:], \"b.\")\n",
    "plot(X[1,V.Ifree], X[2,V.Ifree], \"rx\")"
   ]
  },
  {
   "cell_type": "code",
   "execution_count": null,
   "metadata": {
    "collapsed": true
   },
   "outputs": [],
   "source": []
  }
 ],
 "metadata": {
  "kernelspec": {
   "display_name": "Julia 0.5.0",
   "language": "julia",
   "name": "julia-0.5"
  },
  "language_info": {
   "file_extension": ".jl",
   "mimetype": "application/julia",
   "name": "julia",
   "version": "0.5.0"
  }
 },
 "nbformat": 4,
 "nbformat_minor": 0
}
