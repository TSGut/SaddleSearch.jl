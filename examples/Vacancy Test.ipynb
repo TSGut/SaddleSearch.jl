{
 "cells": [
  {
   "cell_type": "code",
   "execution_count": 7,
   "metadata": {
    "collapsed": false
   },
   "outputs": [
    {
     "data": {
      "image/png": "[encoded data removed]",
      "text/plain": [
       "PyPlot.Figure(PyObject <matplotlib.figure.Figure object at 0x329472dd0>)"
      ]
     },
     "metadata": {},
     "output_type": "display_data"
    },
    {
     "data": {
      "text/plain": [
       "1-element Array{Any,1}:\n",
       " PyObject <matplotlib.lines.Line2D object at 0x32a1e4f90>"
      ]
     },
     "execution_count": 7,
     "metadata": {},
     "output_type": "execute_result"
    }
   ],
   "source": [
    "using SaddleSearch \n",
    "using SaddleSearch.TestSets\n",
    "using PyPlot \n",
    "\n",
    "V = LJVacancy2D(R = 7.1)\n",
    "x0, v0 = ic_dimer(V, :near)\n",
    "E, dE = objective(V)\n",
    "\n",
    "X = SaddleSearch.TestSets.dofs2pos(V, x0)\n",
    "plot(X[1,:], X[2,:], \"b.\")\n",
    "plot(X[1,V.Ifree], X[2,V.Ifree], \"rx\")"
   ]
  },
  {
   "cell_type": "code",
   "execution_count": 8,
   "metadata": {
    "collapsed": false
   },
   "outputs": [
    {
     "name": "stdout",
     "output_type": "stream",
     "text": [
      " nit |  |∇E|_∞    |∇R|_∞        λ         β         γ \n",
      "-----|------------------------------------------------\n",
      "   1 | 3.98e+01  9.79e+01  -8.69e+01  -1.00e+00  -1.00e+00 \n",
      "   2 | 1.14e+01  1.92e+01  -5.37e+01  1.00e-03  1.00e-03 \n",
      "   3 | 3.99e+00  1.11e+01  -4.19e+01  1.36e-03  8.43e-04 \n",
      "   4 | 3.40e+00  3.69e+00  -3.88e+01  1.86e-03  1.65e-03 \n",
      "   5 | 2.62e+00  3.80e+00  -3.42e+01  4.40e-03  1.71e-03 \n",
      "   6 | 2.06e+00  5.35e+00  -3.23e+01  5.53e-03  1.12e-03 \n",
      "   7 | 1.85e+00  5.71e+00  -3.33e+01  4.06e-03  3.55e-04 \n",
      "   8 | 1.68e+00  6.74e+00  -3.20e+01  2.01e-03  3.24e-05 \n",
      "   9 | 1.59e+00  7.05e+00  -3.20e+01  1.82e-03  9.60e-05 \n",
      "  10 | 1.35e+00  5.08e+00  -3.19e+01  4.68e-03  1.20e-03 \n",
      "  11 | 3.36e-01  5.28e+00  -3.09e+01  2.48e-02  3.48e-03 \n",
      "  12 | 7.05e-01  1.97e+00  -3.06e+01  6.33e-03  3.09e-03 \n",
      "  13 | 2.53e-01  1.55e+00  -3.13e+01  1.95e-03  3.21e-03 \n",
      "  14 | 2.38e-01  8.86e-01  -3.13e+01  1.81e-03  2.55e-03 \n",
      "  15 | 2.17e-01  5.61e-01  -3.13e+01  2.92e-03  2.33e-03 \n",
      "  16 | 4.93e-02  1.32e+00  -3.12e+01  2.76e-02  2.75e-03 \n",
      "  17 | 2.13e-01  1.41e+00  -3.10e+01  3.15e-02  2.56e-04 \n",
      "  18 | 8.40e-02  9.78e-01  -3.09e+01  2.13e-03  8.42e-04 \n",
      "  19 | 3.34e-02  4.31e-01  -3.10e+01  1.90e-03  2.57e-03 \n",
      "  20 | 2.89e-02  2.82e-01  -3.10e+01  2.80e-03  3.79e-03 \n",
      "  21 | 1.76e-02  2.93e-01  -3.11e+01  9.03e-03  6.66e-03 \n",
      "  22 | 1.97e-02  6.40e-01  -3.11e+01  1.03e-02  4.87e-03 \n",
      "  23 | 3.19e-02  1.53e-01  -3.12e+01  5.19e-03  1.93e-03 \n",
      "  24 | 1.33e-02  1.33e-01  -3.11e+01  1.96e-03  1.76e-03 \n",
      "  25 | 1.30e-02  1.12e-01  -3.11e+01  1.84e-03  3.51e-03 \n",
      "  26 | 1.20e-02  5.14e-02  -3.12e+01  4.70e-03  1.99e-02 \n",
      "  27 | 3.21e-03  6.99e-02  -3.11e+01  5.22e-02  5.08e-03 \n",
      "  28 | 2.12e-02  1.72e-02  -3.11e+01  2.03e-02  2.06e-03 \n",
      "  29 | 8.42e-03  1.45e-02  -3.11e+01  2.98e-03  1.81e-03 \n",
      "  30 | 2.26e-03  1.32e-02  -3.11e+01  2.00e-03  1.57e-03 \n",
      "  31 | 2.15e-03  1.12e-02  -3.11e+01  1.85e-03  2.58e-03 \n",
      "  32 | 2.06e-03  5.05e-03  -3.11e+01  3.08e-03  1.52e-02 \n",
      "  33 | 1.58e-03  1.14e-02  -3.11e+01  2.88e-02  8.54e-03 \n",
      "  34 | 1.38e-02  1.07e-02  -3.11e+01  6.85e-02  2.50e-03 \n",
      "  35 | 3.33e-03  3.54e-03  -3.11e+01  2.70e-03  1.48e-03 \n",
      "  36 | 2.15e-03  2.39e-03  -3.11e+01  2.30e-03  1.29e-03 \n",
      "  37 | 9.69e-04  2.31e-03  -3.11e+01  2.21e-03  2.12e-03 \n",
      "  38 | 6.40e-04  1.56e-03  -3.11e+01  3.38e-03  5.45e-03 \n",
      "  39 | 5.13e-04  3.18e-03  -3.11e+01  6.29e-03  7.86e-03 \n",
      "  40 | 9.66e-04  8.68e-04  -3.11e+01  6.18e-03  1.86e-03 \n",
      "  41 | 3.83e-04  1.23e-03  -3.11e+01  2.19e-03  2.99e-05 \n",
      "  42 | 3.47e-04  1.14e-03  -3.11e+01  1.85e-03  7.43e-06 \n",
      "  43 | 3.33e-04  1.15e-03  -3.11e+01  2.58e-03  1.30e-06 \n",
      "  44 | 2.55e-04  1.35e-03  -3.11e+01  3.81e-02  3.00e-06 \n",
      "  45 | 1.59e-03  2.16e-03  -3.11e+01  1.22e-02  2.14e-06 \n"
     ]
    },
    {
     "ename": "LoadError",
     "evalue": "AssertionError: α > minα",
     "output_type": "error",
     "traceback": [
      "AssertionError: α > minα",
      "",
      " in #linesearch!#8(::Float64, ::Function, ::SaddleSearch.Backtracking, ::SaddleSearch.##24#26{SaddleSearch.TestSets.##1#3{SaddleSearch.TestSets.LJVacancy2D},Float64}, ::Float64, ::Float64, ::Array{Float64,1}, ::Array{Float64,1}, ::Float64) at /Users/ortner/.julia/v0.5/SaddleSearch/src/linesearch.jl:60",
      " in linesearch!(::SaddleSearch.Backtracking, ::Function, ::Float64, ::Float64, ::Array{Float64,1}, ::Array{Float64,1}, ::Float64) at /Users/ortner/.julia/v0.5/SaddleSearch/src/linesearch.jl:46",
      " in run!(::SaddleSearch.BBDimer, ::SaddleSearch.TestSets.##1#3{SaddleSearch.TestSets.LJVacancy2D}, ::SaddleSearch.TestSets.##2#4{SaddleSearch.TestSets.LJVacancy2D}, ::Array{Float64,1}, ::Array{Float64,1}) at /Users/ortner/.julia/v0.5/SaddleSearch/src/bbdimer.jl:145"
     ]
    }
   ],
   "source": [
    "bbdimer = BBDimer(a0_trans=0.001, a0_rot=0.001, maxnumdE=1000, verbose=2, ls = Backtracking())\n",
    "xbb, vbb, bblog = run!(bbdimer, E, dE, x0, v0)\n",
    "Xbb = SaddleSearch.TestSets.dofs2pos(V, xbb)\n",
    "plot(Xbb[1,:], Xbb[2,:], \"b.\")\n",
    "plot(Xbb[1,V.Ifree], Xbb[2,V.Ifree], \"rx\")"
   ]
  },
  {
   "cell_type": "code",
   "execution_count": 1,
   "metadata": {
    "collapsed": false
   },
   "outputs": [
    {
     "name": "stdout",
     "output_type": "stream",
     "text": [
      "R = 5.1\n",
      "maximum(eP) / minimum(eP) = 69.54184299401531\n",
      "maximum(eI) / minimum(eI) = 154.22260188252164\n",
      "R = 6.1\n",
      "maximum(eP) / minimum(eP) = 69.54184299401531\n",
      "maximum(eI) / minimum(eI) = 154.22260188252164\n",
      "R = 8.1\n",
      "maximum(eP) / minimum(eP) = 69.54184299401531\n",
      "maximum(eI) / minimum(eI) = 154.22260188252164\n",
      "R = 10.1\n",
      "maximum(eP) / minimum(eP) = 69.54184299401531\n",
      "maximum(eI) / minimum(eI) = 154.22260188252164\n"
     ]
    }
   ],
   "source": [
    "using SaddleSearch\n",
    "using SaddleSearch.TestSets\n",
    "using SaddleSearch.TestSets: hessprecond, exp_precond, hessian\n",
    "\n",
    "for R in (5.1,6.1,8.1,10.1)\n",
    "    V = LJVacancy2D(R = R)\n",
    "    x0, v0 = ic_dimer(V, :near)\n",
    "    E, dE = objective(V)\n",
    "\n",
    "    @show R\n",
    "    H = hessprecond(V, x0)\n",
    "    P = exp_precond(V, x0)\n",
    "    eP = eigvals(full(H), full(P))\n",
    "    @show maximum(eP) / minimum(eP)\n",
    "    eI = eigvals(full(H))\n",
    "    @show maximum(eI) / minimum(eI)\n",
    "end "
   ]
  },
  {
   "cell_type": "code",
   "execution_count": null,
   "metadata": {
    "collapsed": true
   },
   "outputs": [],
   "source": []
  }
 ],
 "metadata": {
  "anaconda-cloud": {},
  "kernelspec": {
   "display_name": "Julia 0.5.1-pre",
   "language": "julia",
   "name": "julia-0.5"
  },
  "language_info": {
   "file_extension": ".jl",
   "mimetype": "application/julia",
   "name": "julia",
   "version": "0.5.1"
  }
 },
 "nbformat": 4,
 "nbformat_minor": 0
}
